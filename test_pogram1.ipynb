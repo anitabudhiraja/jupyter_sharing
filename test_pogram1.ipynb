{
 "cells": [
  {
   "cell_type": "code",
   "execution_count": 80,
   "id": "9842cae5",
   "metadata": {},
   "outputs": [
    {
     "name": "stdout",
     "output_type": "stream",
     "text": [
      "4\n",
      "5\n",
      "seema  got marks  4\n"
     ]
    }
   ],
   "source": [
    "\n",
    "b=eval(input())\n",
    "a=eval(input())\n",
    "c=b%a\n",
    "print(name, \" got marks \", c)"
   ]
  },
  {
   "cell_type": "code",
   "execution_count": 81,
   "id": "90ce55d6",
   "metadata": {},
   "outputs": [
    {
     "name": "stdout",
     "output_type": "stream",
     "text": [
      "4\n",
      "F\n"
     ]
    }
   ],
   "source": [
    "#conditional checking\n",
    "marks=eval(input())\n",
    "#>80 A, >60 B, >40 C , otherwise fail\n",
    "if marks >= 80:\n",
    "    grade=\"A\"\n",
    "    print(grade)\n",
    "elif marks >=60 :\n",
    "    grade=\"B\"\n",
    "    print(grade)\n",
    "elif marks >=40:\n",
    "    grade=\"C\"\n",
    "    print(grade)\n",
    "elif marks < 40:\n",
    "    grade=\"F\"\n",
    "    print(grade)\n",
    "\n"
   ]
  },
  {
   "cell_type": "code",
   "execution_count": 82,
   "id": "cb83f366",
   "metadata": {},
   "outputs": [
    {
     "name": "stdout",
     "output_type": "stream",
     "text": [
      "enter the radius3\n",
      "27\n"
     ]
    }
   ],
   "source": [
    "radius=eval(input(\"enter the radius\"))\n",
    "area= 22//7 * radius * radius\n",
    "print(area)"
   ]
  },
  {
   "cell_type": "code",
   "execution_count": 83,
   "id": "353592e7",
   "metadata": {},
   "outputs": [
    {
     "name": "stdout",
     "output_type": "stream",
     "text": [
      "Enter the figure C/S/R:c\n",
      "enter the radius4\n",
      "48\n"
     ]
    }
   ],
   "source": [
    "fig= input(\"Enter the figure C/S/R:\")\n",
    "if fig in \"Cc\":\n",
    "    radius=eval(input(\"enter the radius\"))\n",
    "    area= 22//7 * radius * radius\n",
    "    print(area)\n",
    "elif fig in \"sS\":\n",
    "    side=eval(input(\"enter the side\"))\n",
    "    area=side*side\n",
    "    print(area)\n",
    "elif fig in \"rR\":\n",
    "    length=eval(input(\"enter the length\"))\n",
    "    breadth=eval(input(\"enter the breadth\"))\n",
    "    area=length * breadth\n",
    "    print(area) \n",
    "else:\n",
    "    print(\"Invalid....Please enter C or R or S only\")\n",
    "    "
   ]
  },
  {
   "cell_type": "code",
   "execution_count": 74,
   "id": "3b5b7eaa",
   "metadata": {},
   "outputs": [
    {
     "name": "stdout",
     "output_type": "stream",
     "text": [
      "Enter the figure C/S/R:c\n",
      "enter the radius3\n",
      "27\n",
      "Enter the figure C/S/R:c\n",
      "enter the radius3\n",
      "27\n",
      "Enter the figure C/S/R:c\n",
      "enter the radius2\n",
      "12\n"
     ]
    }
   ],
   "source": [
    "\n",
    "for i in range(3):\n",
    "    fig= input(\"Enter the figure C/S/R:\")\n",
    "    if fig in \"Cc\":\n",
    "        radius=eval(input(\"enter the radius\"))\n",
    "        area= 22//7 * radius * radius\n",
    "        print(area)\n",
    "    elif fig in \"sS\":\n",
    "        side=eval(input(\"enter the side\"))\n",
    "        area=side*side\n",
    "        print(area)\n",
    "    elif fig in \"rR\":\n",
    "        length=eval(input(\"enter the length\"))\n",
    "        breadth=eval(input(\"enter the breadth\"))\n",
    "        area=length * breadth\n",
    "        print(area) \n",
    "    else:\n",
    "        print(\"Invalid....Please enter C or R or S only\")\n",
    "    "
   ]
  },
  {
   "cell_type": "code",
   "execution_count": 79,
   "id": "22186013",
   "metadata": {},
   "outputs": [
    {
     "name": "stdout",
     "output_type": "stream",
     "text": [
      "enter a number for table5\n",
      "till what?5\n",
      "5  *  1  =  5\n",
      "5  *  2  =  10\n",
      "5  *  3  =  15\n",
      "5  *  4  =  20\n",
      "5  *  5  =  25\n"
     ]
    }
   ],
   "source": [
    "# enter a number, print its table\n",
    "# 5 * 1 = 5\n",
    "# 5 * 2 = 10\n",
    "n=eval(input(\"enter a number for table\"))\n",
    "end=eval(input(\"till what?\"))\n",
    "for i in range(1, end+1) :\n",
    "    t=n*i\n",
    "    print(n , \" * \", i, \" = \", t)\n",
    "    "
   ]
  }
 ],
 "metadata": {
  "kernelspec": {
   "display_name": "Python 3 (ipykernel)",
   "language": "python",
   "name": "python3"
  },
  "language_info": {
   "codemirror_mode": {
    "name": "ipython",
    "version": 3
   },
   "file_extension": ".py",
   "mimetype": "text/x-python",
   "name": "python",
   "nbconvert_exporter": "python",
   "pygments_lexer": "ipython3",
   "version": "3.9.7"
  }
 },
 "nbformat": 4,
 "nbformat_minor": 5
}
